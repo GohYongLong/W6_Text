{
  "nbformat": 4,
  "nbformat_minor": 0,
  "metadata": {
    "colab": {
      "provenance": [],
      "include_colab_link": true
    },
    "kernelspec": {
      "name": "python3",
      "display_name": "Python 3"
    },
    "language_info": {
      "name": "python"
    },
    "widgets": {
      "application/vnd.jupyter.widget-state+json": {
        "1912cb6327b54a659509cf3df1a355dd": {
          "model_module": "@jupyter-widgets/controls",
          "model_name": "HBoxModel",
          "model_module_version": "1.5.0",
          "state": {
            "_dom_classes": [],
            "_model_module": "@jupyter-widgets/controls",
            "_model_module_version": "1.5.0",
            "_model_name": "HBoxModel",
            "_view_count": null,
            "_view_module": "@jupyter-widgets/controls",
            "_view_module_version": "1.5.0",
            "_view_name": "HBoxView",
            "box_style": "",
            "children": [
              "IPY_MODEL_d51c0aa16b0f4999a20de4ff0d84bef0",
              "IPY_MODEL_c0a9aae4d7e04d3db803b87372980018",
              "IPY_MODEL_bfefc7eee8f740fba82c7e08c6007d7e"
            ],
            "layout": "IPY_MODEL_2c7980105df94e1b8caa70517db166e9"
          }
        },
        "d51c0aa16b0f4999a20de4ff0d84bef0": {
          "model_module": "@jupyter-widgets/controls",
          "model_name": "HTMLModel",
          "model_module_version": "1.5.0",
          "state": {
            "_dom_classes": [],
            "_model_module": "@jupyter-widgets/controls",
            "_model_module_version": "1.5.0",
            "_model_name": "HTMLModel",
            "_view_count": null,
            "_view_module": "@jupyter-widgets/controls",
            "_view_module_version": "1.5.0",
            "_view_name": "HTMLView",
            "description": "",
            "description_tooltip": null,
            "layout": "IPY_MODEL_85de012d44054626b57ac2c5b7a12743",
            "placeholder": "​",
            "style": "IPY_MODEL_81c35171a1f54da790d4fa4c8a636b15",
            "value": "config.json: 100%"
          }
        },
        "c0a9aae4d7e04d3db803b87372980018": {
          "model_module": "@jupyter-widgets/controls",
          "model_name": "FloatProgressModel",
          "model_module_version": "1.5.0",
          "state": {
            "_dom_classes": [],
            "_model_module": "@jupyter-widgets/controls",
            "_model_module_version": "1.5.0",
            "_model_name": "FloatProgressModel",
            "_view_count": null,
            "_view_module": "@jupyter-widgets/controls",
            "_view_module_version": "1.5.0",
            "_view_name": "ProgressView",
            "bar_style": "success",
            "description": "",
            "description_tooltip": null,
            "layout": "IPY_MODEL_b151be9bb3554cbcb7a6111d74691420",
            "max": 629,
            "min": 0,
            "orientation": "horizontal",
            "style": "IPY_MODEL_7afb58fae89d430ea17393d012165f1a",
            "value": 629
          }
        },
        "bfefc7eee8f740fba82c7e08c6007d7e": {
          "model_module": "@jupyter-widgets/controls",
          "model_name": "HTMLModel",
          "model_module_version": "1.5.0",
          "state": {
            "_dom_classes": [],
            "_model_module": "@jupyter-widgets/controls",
            "_model_module_version": "1.5.0",
            "_model_name": "HTMLModel",
            "_view_count": null,
            "_view_module": "@jupyter-widgets/controls",
            "_view_module_version": "1.5.0",
            "_view_name": "HTMLView",
            "description": "",
            "description_tooltip": null,
            "layout": "IPY_MODEL_29c56cf95a084c7691ccdb61c706f5da",
            "placeholder": "​",
            "style": "IPY_MODEL_4cd8429fd3e240f78ad8280873302641",
            "value": " 629/629 [00:00&lt;00:00, 40.2kB/s]"
          }
        },
        "2c7980105df94e1b8caa70517db166e9": {
          "model_module": "@jupyter-widgets/base",
          "model_name": "LayoutModel",
          "model_module_version": "1.2.0",
          "state": {
            "_model_module": "@jupyter-widgets/base",
            "_model_module_version": "1.2.0",
            "_model_name": "LayoutModel",
            "_view_count": null,
            "_view_module": "@jupyter-widgets/base",
            "_view_module_version": "1.2.0",
            "_view_name": "LayoutView",
            "align_content": null,
            "align_items": null,
            "align_self": null,
            "border": null,
            "bottom": null,
            "display": null,
            "flex": null,
            "flex_flow": null,
            "grid_area": null,
            "grid_auto_columns": null,
            "grid_auto_flow": null,
            "grid_auto_rows": null,
            "grid_column": null,
            "grid_gap": null,
            "grid_row": null,
            "grid_template_areas": null,
            "grid_template_columns": null,
            "grid_template_rows": null,
            "height": null,
            "justify_content": null,
            "justify_items": null,
            "left": null,
            "margin": null,
            "max_height": null,
            "max_width": null,
            "min_height": null,
            "min_width": null,
            "object_fit": null,
            "object_position": null,
            "order": null,
            "overflow": null,
            "overflow_x": null,
            "overflow_y": null,
            "padding": null,
            "right": null,
            "top": null,
            "visibility": null,
            "width": null
          }
        },
        "85de012d44054626b57ac2c5b7a12743": {
          "model_module": "@jupyter-widgets/base",
          "model_name": "LayoutModel",
          "model_module_version": "1.2.0",
          "state": {
            "_model_module": "@jupyter-widgets/base",
            "_model_module_version": "1.2.0",
            "_model_name": "LayoutModel",
            "_view_count": null,
            "_view_module": "@jupyter-widgets/base",
            "_view_module_version": "1.2.0",
            "_view_name": "LayoutView",
            "align_content": null,
            "align_items": null,
            "align_self": null,
            "border": null,
            "bottom": null,
            "display": null,
            "flex": null,
            "flex_flow": null,
            "grid_area": null,
            "grid_auto_columns": null,
            "grid_auto_flow": null,
            "grid_auto_rows": null,
            "grid_column": null,
            "grid_gap": null,
            "grid_row": null,
            "grid_template_areas": null,
            "grid_template_columns": null,
            "grid_template_rows": null,
            "height": null,
            "justify_content": null,
            "justify_items": null,
            "left": null,
            "margin": null,
            "max_height": null,
            "max_width": null,
            "min_height": null,
            "min_width": null,
            "object_fit": null,
            "object_position": null,
            "order": null,
            "overflow": null,
            "overflow_x": null,
            "overflow_y": null,
            "padding": null,
            "right": null,
            "top": null,
            "visibility": null,
            "width": null
          }
        },
        "81c35171a1f54da790d4fa4c8a636b15": {
          "model_module": "@jupyter-widgets/controls",
          "model_name": "DescriptionStyleModel",
          "model_module_version": "1.5.0",
          "state": {
            "_model_module": "@jupyter-widgets/controls",
            "_model_module_version": "1.5.0",
            "_model_name": "DescriptionStyleModel",
            "_view_count": null,
            "_view_module": "@jupyter-widgets/base",
            "_view_module_version": "1.2.0",
            "_view_name": "StyleView",
            "description_width": ""
          }
        },
        "b151be9bb3554cbcb7a6111d74691420": {
          "model_module": "@jupyter-widgets/base",
          "model_name": "LayoutModel",
          "model_module_version": "1.2.0",
          "state": {
            "_model_module": "@jupyter-widgets/base",
            "_model_module_version": "1.2.0",
            "_model_name": "LayoutModel",
            "_view_count": null,
            "_view_module": "@jupyter-widgets/base",
            "_view_module_version": "1.2.0",
            "_view_name": "LayoutView",
            "align_content": null,
            "align_items": null,
            "align_self": null,
            "border": null,
            "bottom": null,
            "display": null,
            "flex": null,
            "flex_flow": null,
            "grid_area": null,
            "grid_auto_columns": null,
            "grid_auto_flow": null,
            "grid_auto_rows": null,
            "grid_column": null,
            "grid_gap": null,
            "grid_row": null,
            "grid_template_areas": null,
            "grid_template_columns": null,
            "grid_template_rows": null,
            "height": null,
            "justify_content": null,
            "justify_items": null,
            "left": null,
            "margin": null,
            "max_height": null,
            "max_width": null,
            "min_height": null,
            "min_width": null,
            "object_fit": null,
            "object_position": null,
            "order": null,
            "overflow": null,
            "overflow_x": null,
            "overflow_y": null,
            "padding": null,
            "right": null,
            "top": null,
            "visibility": null,
            "width": null
          }
        },
        "7afb58fae89d430ea17393d012165f1a": {
          "model_module": "@jupyter-widgets/controls",
          "model_name": "ProgressStyleModel",
          "model_module_version": "1.5.0",
          "state": {
            "_model_module": "@jupyter-widgets/controls",
            "_model_module_version": "1.5.0",
            "_model_name": "ProgressStyleModel",
            "_view_count": null,
            "_view_module": "@jupyter-widgets/base",
            "_view_module_version": "1.2.0",
            "_view_name": "StyleView",
            "bar_color": null,
            "description_width": ""
          }
        },
        "29c56cf95a084c7691ccdb61c706f5da": {
          "model_module": "@jupyter-widgets/base",
          "model_name": "LayoutModel",
          "model_module_version": "1.2.0",
          "state": {
            "_model_module": "@jupyter-widgets/base",
            "_model_module_version": "1.2.0",
            "_model_name": "LayoutModel",
            "_view_count": null,
            "_view_module": "@jupyter-widgets/base",
            "_view_module_version": "1.2.0",
            "_view_name": "LayoutView",
            "align_content": null,
            "align_items": null,
            "align_self": null,
            "border": null,
            "bottom": null,
            "display": null,
            "flex": null,
            "flex_flow": null,
            "grid_area": null,
            "grid_auto_columns": null,
            "grid_auto_flow": null,
            "grid_auto_rows": null,
            "grid_column": null,
            "grid_gap": null,
            "grid_row": null,
            "grid_template_areas": null,
            "grid_template_columns": null,
            "grid_template_rows": null,
            "height": null,
            "justify_content": null,
            "justify_items": null,
            "left": null,
            "margin": null,
            "max_height": null,
            "max_width": null,
            "min_height": null,
            "min_width": null,
            "object_fit": null,
            "object_position": null,
            "order": null,
            "overflow": null,
            "overflow_x": null,
            "overflow_y": null,
            "padding": null,
            "right": null,
            "top": null,
            "visibility": null,
            "width": null
          }
        },
        "4cd8429fd3e240f78ad8280873302641": {
          "model_module": "@jupyter-widgets/controls",
          "model_name": "DescriptionStyleModel",
          "model_module_version": "1.5.0",
          "state": {
            "_model_module": "@jupyter-widgets/controls",
            "_model_module_version": "1.5.0",
            "_model_name": "DescriptionStyleModel",
            "_view_count": null,
            "_view_module": "@jupyter-widgets/base",
            "_view_module_version": "1.2.0",
            "_view_name": "StyleView",
            "description_width": ""
          }
        },
        "8838b7045dcc4e91adec760e422e1824": {
          "model_module": "@jupyter-widgets/controls",
          "model_name": "HBoxModel",
          "model_module_version": "1.5.0",
          "state": {
            "_dom_classes": [],
            "_model_module": "@jupyter-widgets/controls",
            "_model_module_version": "1.5.0",
            "_model_name": "HBoxModel",
            "_view_count": null,
            "_view_module": "@jupyter-widgets/controls",
            "_view_module_version": "1.5.0",
            "_view_name": "HBoxView",
            "box_style": "",
            "children": [
              "IPY_MODEL_99d8651ba1ca43998bc7e4ca3cf69edf",
              "IPY_MODEL_87e740da60734772af11cc5fb1ec5fd6",
              "IPY_MODEL_ccd5208121fc4d7fb03596b7b70a8088"
            ],
            "layout": "IPY_MODEL_888f052c878a4a489a8cf183a220f85d"
          }
        },
        "99d8651ba1ca43998bc7e4ca3cf69edf": {
          "model_module": "@jupyter-widgets/controls",
          "model_name": "HTMLModel",
          "model_module_version": "1.5.0",
          "state": {
            "_dom_classes": [],
            "_model_module": "@jupyter-widgets/controls",
            "_model_module_version": "1.5.0",
            "_model_name": "HTMLModel",
            "_view_count": null,
            "_view_module": "@jupyter-widgets/controls",
            "_view_module_version": "1.5.0",
            "_view_name": "HTMLView",
            "description": "",
            "description_tooltip": null,
            "layout": "IPY_MODEL_71b7eece7465489894870204563247c4",
            "placeholder": "​",
            "style": "IPY_MODEL_51852444956d4665ace1a025752638c5",
            "value": "model.safetensors: 100%"
          }
        },
        "87e740da60734772af11cc5fb1ec5fd6": {
          "model_module": "@jupyter-widgets/controls",
          "model_name": "FloatProgressModel",
          "model_module_version": "1.5.0",
          "state": {
            "_dom_classes": [],
            "_model_module": "@jupyter-widgets/controls",
            "_model_module_version": "1.5.0",
            "_model_name": "FloatProgressModel",
            "_view_count": null,
            "_view_module": "@jupyter-widgets/controls",
            "_view_module_version": "1.5.0",
            "_view_name": "ProgressView",
            "bar_style": "success",
            "description": "",
            "description_tooltip": null,
            "layout": "IPY_MODEL_cb10552e77eb4eb7bb8720f1e34181ac",
            "max": 267832558,
            "min": 0,
            "orientation": "horizontal",
            "style": "IPY_MODEL_7dd0f387e9424c6fa6723a828eaea2ea",
            "value": 267832558
          }
        },
        "ccd5208121fc4d7fb03596b7b70a8088": {
          "model_module": "@jupyter-widgets/controls",
          "model_name": "HTMLModel",
          "model_module_version": "1.5.0",
          "state": {
            "_dom_classes": [],
            "_model_module": "@jupyter-widgets/controls",
            "_model_module_version": "1.5.0",
            "_model_name": "HTMLModel",
            "_view_count": null,
            "_view_module": "@jupyter-widgets/controls",
            "_view_module_version": "1.5.0",
            "_view_name": "HTMLView",
            "description": "",
            "description_tooltip": null,
            "layout": "IPY_MODEL_93c381b70fef497f8acf0bdb6c937b27",
            "placeholder": "​",
            "style": "IPY_MODEL_7039eda948444697bce65ea1a770ee2b",
            "value": " 268M/268M [00:01&lt;00:00, 197MB/s]"
          }
        },
        "888f052c878a4a489a8cf183a220f85d": {
          "model_module": "@jupyter-widgets/base",
          "model_name": "LayoutModel",
          "model_module_version": "1.2.0",
          "state": {
            "_model_module": "@jupyter-widgets/base",
            "_model_module_version": "1.2.0",
            "_model_name": "LayoutModel",
            "_view_count": null,
            "_view_module": "@jupyter-widgets/base",
            "_view_module_version": "1.2.0",
            "_view_name": "LayoutView",
            "align_content": null,
            "align_items": null,
            "align_self": null,
            "border": null,
            "bottom": null,
            "display": null,
            "flex": null,
            "flex_flow": null,
            "grid_area": null,
            "grid_auto_columns": null,
            "grid_auto_flow": null,
            "grid_auto_rows": null,
            "grid_column": null,
            "grid_gap": null,
            "grid_row": null,
            "grid_template_areas": null,
            "grid_template_columns": null,
            "grid_template_rows": null,
            "height": null,
            "justify_content": null,
            "justify_items": null,
            "left": null,
            "margin": null,
            "max_height": null,
            "max_width": null,
            "min_height": null,
            "min_width": null,
            "object_fit": null,
            "object_position": null,
            "order": null,
            "overflow": null,
            "overflow_x": null,
            "overflow_y": null,
            "padding": null,
            "right": null,
            "top": null,
            "visibility": null,
            "width": null
          }
        },
        "71b7eece7465489894870204563247c4": {
          "model_module": "@jupyter-widgets/base",
          "model_name": "LayoutModel",
          "model_module_version": "1.2.0",
          "state": {
            "_model_module": "@jupyter-widgets/base",
            "_model_module_version": "1.2.0",
            "_model_name": "LayoutModel",
            "_view_count": null,
            "_view_module": "@jupyter-widgets/base",
            "_view_module_version": "1.2.0",
            "_view_name": "LayoutView",
            "align_content": null,
            "align_items": null,
            "align_self": null,
            "border": null,
            "bottom": null,
            "display": null,
            "flex": null,
            "flex_flow": null,
            "grid_area": null,
            "grid_auto_columns": null,
            "grid_auto_flow": null,
            "grid_auto_rows": null,
            "grid_column": null,
            "grid_gap": null,
            "grid_row": null,
            "grid_template_areas": null,
            "grid_template_columns": null,
            "grid_template_rows": null,
            "height": null,
            "justify_content": null,
            "justify_items": null,
            "left": null,
            "margin": null,
            "max_height": null,
            "max_width": null,
            "min_height": null,
            "min_width": null,
            "object_fit": null,
            "object_position": null,
            "order": null,
            "overflow": null,
            "overflow_x": null,
            "overflow_y": null,
            "padding": null,
            "right": null,
            "top": null,
            "visibility": null,
            "width": null
          }
        },
        "51852444956d4665ace1a025752638c5": {
          "model_module": "@jupyter-widgets/controls",
          "model_name": "DescriptionStyleModel",
          "model_module_version": "1.5.0",
          "state": {
            "_model_module": "@jupyter-widgets/controls",
            "_model_module_version": "1.5.0",
            "_model_name": "DescriptionStyleModel",
            "_view_count": null,
            "_view_module": "@jupyter-widgets/base",
            "_view_module_version": "1.2.0",
            "_view_name": "StyleView",
            "description_width": ""
          }
        },
        "cb10552e77eb4eb7bb8720f1e34181ac": {
          "model_module": "@jupyter-widgets/base",
          "model_name": "LayoutModel",
          "model_module_version": "1.2.0",
          "state": {
            "_model_module": "@jupyter-widgets/base",
            "_model_module_version": "1.2.0",
            "_model_name": "LayoutModel",
            "_view_count": null,
            "_view_module": "@jupyter-widgets/base",
            "_view_module_version": "1.2.0",
            "_view_name": "LayoutView",
            "align_content": null,
            "align_items": null,
            "align_self": null,
            "border": null,
            "bottom": null,
            "display": null,
            "flex": null,
            "flex_flow": null,
            "grid_area": null,
            "grid_auto_columns": null,
            "grid_auto_flow": null,
            "grid_auto_rows": null,
            "grid_column": null,
            "grid_gap": null,
            "grid_row": null,
            "grid_template_areas": null,
            "grid_template_columns": null,
            "grid_template_rows": null,
            "height": null,
            "justify_content": null,
            "justify_items": null,
            "left": null,
            "margin": null,
            "max_height": null,
            "max_width": null,
            "min_height": null,
            "min_width": null,
            "object_fit": null,
            "object_position": null,
            "order": null,
            "overflow": null,
            "overflow_x": null,
            "overflow_y": null,
            "padding": null,
            "right": null,
            "top": null,
            "visibility": null,
            "width": null
          }
        },
        "7dd0f387e9424c6fa6723a828eaea2ea": {
          "model_module": "@jupyter-widgets/controls",
          "model_name": "ProgressStyleModel",
          "model_module_version": "1.5.0",
          "state": {
            "_model_module": "@jupyter-widgets/controls",
            "_model_module_version": "1.5.0",
            "_model_name": "ProgressStyleModel",
            "_view_count": null,
            "_view_module": "@jupyter-widgets/base",
            "_view_module_version": "1.2.0",
            "_view_name": "StyleView",
            "bar_color": null,
            "description_width": ""
          }
        },
        "93c381b70fef497f8acf0bdb6c937b27": {
          "model_module": "@jupyter-widgets/base",
          "model_name": "LayoutModel",
          "model_module_version": "1.2.0",
          "state": {
            "_model_module": "@jupyter-widgets/base",
            "_model_module_version": "1.2.0",
            "_model_name": "LayoutModel",
            "_view_count": null,
            "_view_module": "@jupyter-widgets/base",
            "_view_module_version": "1.2.0",
            "_view_name": "LayoutView",
            "align_content": null,
            "align_items": null,
            "align_self": null,
            "border": null,
            "bottom": null,
            "display": null,
            "flex": null,
            "flex_flow": null,
            "grid_area": null,
            "grid_auto_columns": null,
            "grid_auto_flow": null,
            "grid_auto_rows": null,
            "grid_column": null,
            "grid_gap": null,
            "grid_row": null,
            "grid_template_areas": null,
            "grid_template_columns": null,
            "grid_template_rows": null,
            "height": null,
            "justify_content": null,
            "justify_items": null,
            "left": null,
            "margin": null,
            "max_height": null,
            "max_width": null,
            "min_height": null,
            "min_width": null,
            "object_fit": null,
            "object_position": null,
            "order": null,
            "overflow": null,
            "overflow_x": null,
            "overflow_y": null,
            "padding": null,
            "right": null,
            "top": null,
            "visibility": null,
            "width": null
          }
        },
        "7039eda948444697bce65ea1a770ee2b": {
          "model_module": "@jupyter-widgets/controls",
          "model_name": "DescriptionStyleModel",
          "model_module_version": "1.5.0",
          "state": {
            "_model_module": "@jupyter-widgets/controls",
            "_model_module_version": "1.5.0",
            "_model_name": "DescriptionStyleModel",
            "_view_count": null,
            "_view_module": "@jupyter-widgets/base",
            "_view_module_version": "1.2.0",
            "_view_name": "StyleView",
            "description_width": ""
          }
        },
        "1fe3e9bff99540aeb20a846d178d267d": {
          "model_module": "@jupyter-widgets/controls",
          "model_name": "HBoxModel",
          "model_module_version": "1.5.0",
          "state": {
            "_dom_classes": [],
            "_model_module": "@jupyter-widgets/controls",
            "_model_module_version": "1.5.0",
            "_model_name": "HBoxModel",
            "_view_count": null,
            "_view_module": "@jupyter-widgets/controls",
            "_view_module_version": "1.5.0",
            "_view_name": "HBoxView",
            "box_style": "",
            "children": [
              "IPY_MODEL_56217c29896e44639a648ae5e929276b",
              "IPY_MODEL_6c9d5d537ef04c90b174fafc9aeb5763",
              "IPY_MODEL_e2a7bc439c1040d98b1139981e607aee"
            ],
            "layout": "IPY_MODEL_3a6e8bf6c62541ac864d7f45fae2431c"
          }
        },
        "56217c29896e44639a648ae5e929276b": {
          "model_module": "@jupyter-widgets/controls",
          "model_name": "HTMLModel",
          "model_module_version": "1.5.0",
          "state": {
            "_dom_classes": [],
            "_model_module": "@jupyter-widgets/controls",
            "_model_module_version": "1.5.0",
            "_model_name": "HTMLModel",
            "_view_count": null,
            "_view_module": "@jupyter-widgets/controls",
            "_view_module_version": "1.5.0",
            "_view_name": "HTMLView",
            "description": "",
            "description_tooltip": null,
            "layout": "IPY_MODEL_9ed0bab0fa404a36a52c08baf2530b43",
            "placeholder": "​",
            "style": "IPY_MODEL_7462a47772dc4722b0da57b8ea946c8e",
            "value": "tokenizer_config.json: 100%"
          }
        },
        "6c9d5d537ef04c90b174fafc9aeb5763": {
          "model_module": "@jupyter-widgets/controls",
          "model_name": "FloatProgressModel",
          "model_module_version": "1.5.0",
          "state": {
            "_dom_classes": [],
            "_model_module": "@jupyter-widgets/controls",
            "_model_module_version": "1.5.0",
            "_model_name": "FloatProgressModel",
            "_view_count": null,
            "_view_module": "@jupyter-widgets/controls",
            "_view_module_version": "1.5.0",
            "_view_name": "ProgressView",
            "bar_style": "success",
            "description": "",
            "description_tooltip": null,
            "layout": "IPY_MODEL_35146e9242784ad08a6768b3725e17e5",
            "max": 48,
            "min": 0,
            "orientation": "horizontal",
            "style": "IPY_MODEL_ea5cff8d94414239899f0a945ef8c113",
            "value": 48
          }
        },
        "e2a7bc439c1040d98b1139981e607aee": {
          "model_module": "@jupyter-widgets/controls",
          "model_name": "HTMLModel",
          "model_module_version": "1.5.0",
          "state": {
            "_dom_classes": [],
            "_model_module": "@jupyter-widgets/controls",
            "_model_module_version": "1.5.0",
            "_model_name": "HTMLModel",
            "_view_count": null,
            "_view_module": "@jupyter-widgets/controls",
            "_view_module_version": "1.5.0",
            "_view_name": "HTMLView",
            "description": "",
            "description_tooltip": null,
            "layout": "IPY_MODEL_edbab244c7a84dec96456c0c2f2379e7",
            "placeholder": "​",
            "style": "IPY_MODEL_da79b15346be467dab7e50a4e4d0daa9",
            "value": " 48.0/48.0 [00:00&lt;00:00, 2.99kB/s]"
          }
        },
        "3a6e8bf6c62541ac864d7f45fae2431c": {
          "model_module": "@jupyter-widgets/base",
          "model_name": "LayoutModel",
          "model_module_version": "1.2.0",
          "state": {
            "_model_module": "@jupyter-widgets/base",
            "_model_module_version": "1.2.0",
            "_model_name": "LayoutModel",
            "_view_count": null,
            "_view_module": "@jupyter-widgets/base",
            "_view_module_version": "1.2.0",
            "_view_name": "LayoutView",
            "align_content": null,
            "align_items": null,
            "align_self": null,
            "border": null,
            "bottom": null,
            "display": null,
            "flex": null,
            "flex_flow": null,
            "grid_area": null,
            "grid_auto_columns": null,
            "grid_auto_flow": null,
            "grid_auto_rows": null,
            "grid_column": null,
            "grid_gap": null,
            "grid_row": null,
            "grid_template_areas": null,
            "grid_template_columns": null,
            "grid_template_rows": null,
            "height": null,
            "justify_content": null,
            "justify_items": null,
            "left": null,
            "margin": null,
            "max_height": null,
            "max_width": null,
            "min_height": null,
            "min_width": null,
            "object_fit": null,
            "object_position": null,
            "order": null,
            "overflow": null,
            "overflow_x": null,
            "overflow_y": null,
            "padding": null,
            "right": null,
            "top": null,
            "visibility": null,
            "width": null
          }
        },
        "9ed0bab0fa404a36a52c08baf2530b43": {
          "model_module": "@jupyter-widgets/base",
          "model_name": "LayoutModel",
          "model_module_version": "1.2.0",
          "state": {
            "_model_module": "@jupyter-widgets/base",
            "_model_module_version": "1.2.0",
            "_model_name": "LayoutModel",
            "_view_count": null,
            "_view_module": "@jupyter-widgets/base",
            "_view_module_version": "1.2.0",
            "_view_name": "LayoutView",
            "align_content": null,
            "align_items": null,
            "align_self": null,
            "border": null,
            "bottom": null,
            "display": null,
            "flex": null,
            "flex_flow": null,
            "grid_area": null,
            "grid_auto_columns": null,
            "grid_auto_flow": null,
            "grid_auto_rows": null,
            "grid_column": null,
            "grid_gap": null,
            "grid_row": null,
            "grid_template_areas": null,
            "grid_template_columns": null,
            "grid_template_rows": null,
            "height": null,
            "justify_content": null,
            "justify_items": null,
            "left": null,
            "margin": null,
            "max_height": null,
            "max_width": null,
            "min_height": null,
            "min_width": null,
            "object_fit": null,
            "object_position": null,
            "order": null,
            "overflow": null,
            "overflow_x": null,
            "overflow_y": null,
            "padding": null,
            "right": null,
            "top": null,
            "visibility": null,
            "width": null
          }
        },
        "7462a47772dc4722b0da57b8ea946c8e": {
          "model_module": "@jupyter-widgets/controls",
          "model_name": "DescriptionStyleModel",
          "model_module_version": "1.5.0",
          "state": {
            "_model_module": "@jupyter-widgets/controls",
            "_model_module_version": "1.5.0",
            "_model_name": "DescriptionStyleModel",
            "_view_count": null,
            "_view_module": "@jupyter-widgets/base",
            "_view_module_version": "1.2.0",
            "_view_name": "StyleView",
            "description_width": ""
          }
        },
        "35146e9242784ad08a6768b3725e17e5": {
          "model_module": "@jupyter-widgets/base",
          "model_name": "LayoutModel",
          "model_module_version": "1.2.0",
          "state": {
            "_model_module": "@jupyter-widgets/base",
            "_model_module_version": "1.2.0",
            "_model_name": "LayoutModel",
            "_view_count": null,
            "_view_module": "@jupyter-widgets/base",
            "_view_module_version": "1.2.0",
            "_view_name": "LayoutView",
            "align_content": null,
            "align_items": null,
            "align_self": null,
            "border": null,
            "bottom": null,
            "display": null,
            "flex": null,
            "flex_flow": null,
            "grid_area": null,
            "grid_auto_columns": null,
            "grid_auto_flow": null,
            "grid_auto_rows": null,
            "grid_column": null,
            "grid_gap": null,
            "grid_row": null,
            "grid_template_areas": null,
            "grid_template_columns": null,
            "grid_template_rows": null,
            "height": null,
            "justify_content": null,
            "justify_items": null,
            "left": null,
            "margin": null,
            "max_height": null,
            "max_width": null,
            "min_height": null,
            "min_width": null,
            "object_fit": null,
            "object_position": null,
            "order": null,
            "overflow": null,
            "overflow_x": null,
            "overflow_y": null,
            "padding": null,
            "right": null,
            "top": null,
            "visibility": null,
            "width": null
          }
        },
        "ea5cff8d94414239899f0a945ef8c113": {
          "model_module": "@jupyter-widgets/controls",
          "model_name": "ProgressStyleModel",
          "model_module_version": "1.5.0",
          "state": {
            "_model_module": "@jupyter-widgets/controls",
            "_model_module_version": "1.5.0",
            "_model_name": "ProgressStyleModel",
            "_view_count": null,
            "_view_module": "@jupyter-widgets/base",
            "_view_module_version": "1.2.0",
            "_view_name": "StyleView",
            "bar_color": null,
            "description_width": ""
          }
        },
        "edbab244c7a84dec96456c0c2f2379e7": {
          "model_module": "@jupyter-widgets/base",
          "model_name": "LayoutModel",
          "model_module_version": "1.2.0",
          "state": {
            "_model_module": "@jupyter-widgets/base",
            "_model_module_version": "1.2.0",
            "_model_name": "LayoutModel",
            "_view_count": null,
            "_view_module": "@jupyter-widgets/base",
            "_view_module_version": "1.2.0",
            "_view_name": "LayoutView",
            "align_content": null,
            "align_items": null,
            "align_self": null,
            "border": null,
            "bottom": null,
            "display": null,
            "flex": null,
            "flex_flow": null,
            "grid_area": null,
            "grid_auto_columns": null,
            "grid_auto_flow": null,
            "grid_auto_rows": null,
            "grid_column": null,
            "grid_gap": null,
            "grid_row": null,
            "grid_template_areas": null,
            "grid_template_columns": null,
            "grid_template_rows": null,
            "height": null,
            "justify_content": null,
            "justify_items": null,
            "left": null,
            "margin": null,
            "max_height": null,
            "max_width": null,
            "min_height": null,
            "min_width": null,
            "object_fit": null,
            "object_position": null,
            "order": null,
            "overflow": null,
            "overflow_x": null,
            "overflow_y": null,
            "padding": null,
            "right": null,
            "top": null,
            "visibility": null,
            "width": null
          }
        },
        "da79b15346be467dab7e50a4e4d0daa9": {
          "model_module": "@jupyter-widgets/controls",
          "model_name": "DescriptionStyleModel",
          "model_module_version": "1.5.0",
          "state": {
            "_model_module": "@jupyter-widgets/controls",
            "_model_module_version": "1.5.0",
            "_model_name": "DescriptionStyleModel",
            "_view_count": null,
            "_view_module": "@jupyter-widgets/base",
            "_view_module_version": "1.2.0",
            "_view_name": "StyleView",
            "description_width": ""
          }
        },
        "fc6694567f544702aea155ca1c3c4224": {
          "model_module": "@jupyter-widgets/controls",
          "model_name": "HBoxModel",
          "model_module_version": "1.5.0",
          "state": {
            "_dom_classes": [],
            "_model_module": "@jupyter-widgets/controls",
            "_model_module_version": "1.5.0",
            "_model_name": "HBoxModel",
            "_view_count": null,
            "_view_module": "@jupyter-widgets/controls",
            "_view_module_version": "1.5.0",
            "_view_name": "HBoxView",
            "box_style": "",
            "children": [
              "IPY_MODEL_899fae69179e4ead9c4f01de133ab063",
              "IPY_MODEL_0a62433828d84e30abb31015a30a01ad",
              "IPY_MODEL_3e4cdf22db194a4bbc3f4a01b0412920"
            ],
            "layout": "IPY_MODEL_8020c40069d1435f9f53c9da3628b6ae"
          }
        },
        "899fae69179e4ead9c4f01de133ab063": {
          "model_module": "@jupyter-widgets/controls",
          "model_name": "HTMLModel",
          "model_module_version": "1.5.0",
          "state": {
            "_dom_classes": [],
            "_model_module": "@jupyter-widgets/controls",
            "_model_module_version": "1.5.0",
            "_model_name": "HTMLModel",
            "_view_count": null,
            "_view_module": "@jupyter-widgets/controls",
            "_view_module_version": "1.5.0",
            "_view_name": "HTMLView",
            "description": "",
            "description_tooltip": null,
            "layout": "IPY_MODEL_0d7ed816e4f34d30a875a90ba849f996",
            "placeholder": "​",
            "style": "IPY_MODEL_7867dbe3c6be4a54b9ff45f235806f88",
            "value": "vocab.txt: 100%"
          }
        },
        "0a62433828d84e30abb31015a30a01ad": {
          "model_module": "@jupyter-widgets/controls",
          "model_name": "FloatProgressModel",
          "model_module_version": "1.5.0",
          "state": {
            "_dom_classes": [],
            "_model_module": "@jupyter-widgets/controls",
            "_model_module_version": "1.5.0",
            "_model_name": "FloatProgressModel",
            "_view_count": null,
            "_view_module": "@jupyter-widgets/controls",
            "_view_module_version": "1.5.0",
            "_view_name": "ProgressView",
            "bar_style": "success",
            "description": "",
            "description_tooltip": null,
            "layout": "IPY_MODEL_651c2ef5325a45e781d9ee5d64c7b873",
            "max": 231508,
            "min": 0,
            "orientation": "horizontal",
            "style": "IPY_MODEL_770304d37ac14341997682a78b069b92",
            "value": 231508
          }
        },
        "3e4cdf22db194a4bbc3f4a01b0412920": {
          "model_module": "@jupyter-widgets/controls",
          "model_name": "HTMLModel",
          "model_module_version": "1.5.0",
          "state": {
            "_dom_classes": [],
            "_model_module": "@jupyter-widgets/controls",
            "_model_module_version": "1.5.0",
            "_model_name": "HTMLModel",
            "_view_count": null,
            "_view_module": "@jupyter-widgets/controls",
            "_view_module_version": "1.5.0",
            "_view_name": "HTMLView",
            "description": "",
            "description_tooltip": null,
            "layout": "IPY_MODEL_48969947c49c4a0b9ebab792ca6e6c9e",
            "placeholder": "​",
            "style": "IPY_MODEL_b2560dfb6c474617a8ddf6e8004acae3",
            "value": " 232k/232k [00:00&lt;00:00, 4.68MB/s]"
          }
        },
        "8020c40069d1435f9f53c9da3628b6ae": {
          "model_module": "@jupyter-widgets/base",
          "model_name": "LayoutModel",
          "model_module_version": "1.2.0",
          "state": {
            "_model_module": "@jupyter-widgets/base",
            "_model_module_version": "1.2.0",
            "_model_name": "LayoutModel",
            "_view_count": null,
            "_view_module": "@jupyter-widgets/base",
            "_view_module_version": "1.2.0",
            "_view_name": "LayoutView",
            "align_content": null,
            "align_items": null,
            "align_self": null,
            "border": null,
            "bottom": null,
            "display": null,
            "flex": null,
            "flex_flow": null,
            "grid_area": null,
            "grid_auto_columns": null,
            "grid_auto_flow": null,
            "grid_auto_rows": null,
            "grid_column": null,
            "grid_gap": null,
            "grid_row": null,
            "grid_template_areas": null,
            "grid_template_columns": null,
            "grid_template_rows": null,
            "height": null,
            "justify_content": null,
            "justify_items": null,
            "left": null,
            "margin": null,
            "max_height": null,
            "max_width": null,
            "min_height": null,
            "min_width": null,
            "object_fit": null,
            "object_position": null,
            "order": null,
            "overflow": null,
            "overflow_x": null,
            "overflow_y": null,
            "padding": null,
            "right": null,
            "top": null,
            "visibility": null,
            "width": null
          }
        },
        "0d7ed816e4f34d30a875a90ba849f996": {
          "model_module": "@jupyter-widgets/base",
          "model_name": "LayoutModel",
          "model_module_version": "1.2.0",
          "state": {
            "_model_module": "@jupyter-widgets/base",
            "_model_module_version": "1.2.0",
            "_model_name": "LayoutModel",
            "_view_count": null,
            "_view_module": "@jupyter-widgets/base",
            "_view_module_version": "1.2.0",
            "_view_name": "LayoutView",
            "align_content": null,
            "align_items": null,
            "align_self": null,
            "border": null,
            "bottom": null,
            "display": null,
            "flex": null,
            "flex_flow": null,
            "grid_area": null,
            "grid_auto_columns": null,
            "grid_auto_flow": null,
            "grid_auto_rows": null,
            "grid_column": null,
            "grid_gap": null,
            "grid_row": null,
            "grid_template_areas": null,
            "grid_template_columns": null,
            "grid_template_rows": null,
            "height": null,
            "justify_content": null,
            "justify_items": null,
            "left": null,
            "margin": null,
            "max_height": null,
            "max_width": null,
            "min_height": null,
            "min_width": null,
            "object_fit": null,
            "object_position": null,
            "order": null,
            "overflow": null,
            "overflow_x": null,
            "overflow_y": null,
            "padding": null,
            "right": null,
            "top": null,
            "visibility": null,
            "width": null
          }
        },
        "7867dbe3c6be4a54b9ff45f235806f88": {
          "model_module": "@jupyter-widgets/controls",
          "model_name": "DescriptionStyleModel",
          "model_module_version": "1.5.0",
          "state": {
            "_model_module": "@jupyter-widgets/controls",
            "_model_module_version": "1.5.0",
            "_model_name": "DescriptionStyleModel",
            "_view_count": null,
            "_view_module": "@jupyter-widgets/base",
            "_view_module_version": "1.2.0",
            "_view_name": "StyleView",
            "description_width": ""
          }
        },
        "651c2ef5325a45e781d9ee5d64c7b873": {
          "model_module": "@jupyter-widgets/base",
          "model_name": "LayoutModel",
          "model_module_version": "1.2.0",
          "state": {
            "_model_module": "@jupyter-widgets/base",
            "_model_module_version": "1.2.0",
            "_model_name": "LayoutModel",
            "_view_count": null,
            "_view_module": "@jupyter-widgets/base",
            "_view_module_version": "1.2.0",
            "_view_name": "LayoutView",
            "align_content": null,
            "align_items": null,
            "align_self": null,
            "border": null,
            "bottom": null,
            "display": null,
            "flex": null,
            "flex_flow": null,
            "grid_area": null,
            "grid_auto_columns": null,
            "grid_auto_flow": null,
            "grid_auto_rows": null,
            "grid_column": null,
            "grid_gap": null,
            "grid_row": null,
            "grid_template_areas": null,
            "grid_template_columns": null,
            "grid_template_rows": null,
            "height": null,
            "justify_content": null,
            "justify_items": null,
            "left": null,
            "margin": null,
            "max_height": null,
            "max_width": null,
            "min_height": null,
            "min_width": null,
            "object_fit": null,
            "object_position": null,
            "order": null,
            "overflow": null,
            "overflow_x": null,
            "overflow_y": null,
            "padding": null,
            "right": null,
            "top": null,
            "visibility": null,
            "width": null
          }
        },
        "770304d37ac14341997682a78b069b92": {
          "model_module": "@jupyter-widgets/controls",
          "model_name": "ProgressStyleModel",
          "model_module_version": "1.5.0",
          "state": {
            "_model_module": "@jupyter-widgets/controls",
            "_model_module_version": "1.5.0",
            "_model_name": "ProgressStyleModel",
            "_view_count": null,
            "_view_module": "@jupyter-widgets/base",
            "_view_module_version": "1.2.0",
            "_view_name": "StyleView",
            "bar_color": null,
            "description_width": ""
          }
        },
        "48969947c49c4a0b9ebab792ca6e6c9e": {
          "model_module": "@jupyter-widgets/base",
          "model_name": "LayoutModel",
          "model_module_version": "1.2.0",
          "state": {
            "_model_module": "@jupyter-widgets/base",
            "_model_module_version": "1.2.0",
            "_model_name": "LayoutModel",
            "_view_count": null,
            "_view_module": "@jupyter-widgets/base",
            "_view_module_version": "1.2.0",
            "_view_name": "LayoutView",
            "align_content": null,
            "align_items": null,
            "align_self": null,
            "border": null,
            "bottom": null,
            "display": null,
            "flex": null,
            "flex_flow": null,
            "grid_area": null,
            "grid_auto_columns": null,
            "grid_auto_flow": null,
            "grid_auto_rows": null,
            "grid_column": null,
            "grid_gap": null,
            "grid_row": null,
            "grid_template_areas": null,
            "grid_template_columns": null,
            "grid_template_rows": null,
            "height": null,
            "justify_content": null,
            "justify_items": null,
            "left": null,
            "margin": null,
            "max_height": null,
            "max_width": null,
            "min_height": null,
            "min_width": null,
            "object_fit": null,
            "object_position": null,
            "order": null,
            "overflow": null,
            "overflow_x": null,
            "overflow_y": null,
            "padding": null,
            "right": null,
            "top": null,
            "visibility": null,
            "width": null
          }
        },
        "b2560dfb6c474617a8ddf6e8004acae3": {
          "model_module": "@jupyter-widgets/controls",
          "model_name": "DescriptionStyleModel",
          "model_module_version": "1.5.0",
          "state": {
            "_model_module": "@jupyter-widgets/controls",
            "_model_module_version": "1.5.0",
            "_model_name": "DescriptionStyleModel",
            "_view_count": null,
            "_view_module": "@jupyter-widgets/base",
            "_view_module_version": "1.2.0",
            "_view_name": "StyleView",
            "description_width": ""
          }
        }
      }
    }
  },
  "cells": [
    {
      "cell_type": "markdown",
      "metadata": {
        "id": "view-in-github",
        "colab_type": "text"
      },
      "source": [
        "<a href=\"https://colab.research.google.com/github/GohYongLong/W6_Text/blob/main/W6_Yong_Long_U2310745A.ipynb\" target=\"_parent\"><img src=\"https://colab.research.google.com/assets/colab-badge.svg\" alt=\"Open In Colab\"/></a>"
      ]
    },
    {
      "cell_type": "markdown",
      "source": [
        "\n",
        "\n",
        "![image.png](data:image/png;base64,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)![image.png](data:image/png;base64,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)"
      ],
      "metadata": {
        "id": "kvbwB1Qe4w9V"
      }
    },
    {
      "cell_type": "code",
      "execution_count": 1,
      "metadata": {
        "id": "54eAxqXhO9oj",
        "colab": {
          "base_uri": "https://localhost:8080/"
        },
        "outputId": "5cdf9244-d1f8-4e1d-e926-5a7f2eeae315"
      },
      "outputs": [
        {
          "name": "stdout",
          "output_type": "stream",
          "text": [
            "please enter the text : The lack of implementation of AI in accounting and finance has unfortunately led to numerous errors and increased costs\n"
          ]
        }
      ],
      "source": [
        "from textblob import TextBlob\n",
        "\n",
        "d = input(\"please enter the text : \")\n",
        "\n",
        "# E.g.,\n",
        "# \"The implementation of AI in accounting and finance has significantly streamlined processes and improved accuracy.\"\n",
        "# \"The lack of implementation of AI in accounting and finance has unfortunately led to numerous errors and increased costs.\""
      ]
    },
    {
      "cell_type": "code",
      "source": [
        "TextBlob(d).sentiment"
      ],
      "metadata": {
        "id": "c7oOqR_GPAnu",
        "colab": {
          "base_uri": "https://localhost:8080/"
        },
        "outputId": "c9ec428b-6584-4c31-fd29-871f592abaaf"
      },
      "execution_count": 2,
      "outputs": [
        {
          "output_type": "execute_result",
          "data": {
            "text/plain": [
              "Sentiment(polarity=-0.25, subjectivity=0.75)"
            ]
          },
          "metadata": {},
          "execution_count": 2
        }
      ]
    },
    {
      "cell_type": "code",
      "source": [
        "TextBlob(d).sentiment"
      ],
      "metadata": {
        "colab": {
          "base_uri": "https://localhost:8080/"
        },
        "id": "bF-hKNcOF5wY",
        "outputId": "fa82b8ce-8a85-4ef6-9528-be7f429f644a"
      },
      "execution_count": 3,
      "outputs": [
        {
          "output_type": "execute_result",
          "data": {
            "text/plain": [
              "Sentiment(polarity=-0.25, subjectivity=0.75)"
            ]
          },
          "metadata": {},
          "execution_count": 3
        }
      ]
    },
    {
      "cell_type": "code",
      "source": [
        "pip install transformers"
      ],
      "metadata": {
        "id": "7r1nemMZPKkN",
        "colab": {
          "base_uri": "https://localhost:8080/"
        },
        "outputId": "90940df8-6fe1-406d-95eb-fc9277c0e459"
      },
      "execution_count": 4,
      "outputs": [
        {
          "output_type": "stream",
          "name": "stdout",
          "text": [
            "Requirement already satisfied: transformers in /usr/local/lib/python3.11/dist-packages (4.48.3)\n",
            "Requirement already satisfied: filelock in /usr/local/lib/python3.11/dist-packages (from transformers) (3.17.0)\n",
            "Requirement already satisfied: huggingface-hub<1.0,>=0.24.0 in /usr/local/lib/python3.11/dist-packages (from transformers) (0.28.1)\n",
            "Requirement already satisfied: numpy>=1.17 in /usr/local/lib/python3.11/dist-packages (from transformers) (1.26.4)\n",
            "Requirement already satisfied: packaging>=20.0 in /usr/local/lib/python3.11/dist-packages (from transformers) (24.2)\n",
            "Requirement already satisfied: pyyaml>=5.1 in /usr/local/lib/python3.11/dist-packages (from transformers) (6.0.2)\n",
            "Requirement already satisfied: regex!=2019.12.17 in /usr/local/lib/python3.11/dist-packages (from transformers) (2024.11.6)\n",
            "Requirement already satisfied: requests in /usr/local/lib/python3.11/dist-packages (from transformers) (2.32.3)\n",
            "Requirement already satisfied: tokenizers<0.22,>=0.21 in /usr/local/lib/python3.11/dist-packages (from transformers) (0.21.0)\n",
            "Requirement already satisfied: safetensors>=0.4.1 in /usr/local/lib/python3.11/dist-packages (from transformers) (0.5.2)\n",
            "Requirement already satisfied: tqdm>=4.27 in /usr/local/lib/python3.11/dist-packages (from transformers) (4.67.1)\n",
            "Requirement already satisfied: fsspec>=2023.5.0 in /usr/local/lib/python3.11/dist-packages (from huggingface-hub<1.0,>=0.24.0->transformers) (2024.10.0)\n",
            "Requirement already satisfied: typing-extensions>=3.7.4.3 in /usr/local/lib/python3.11/dist-packages (from huggingface-hub<1.0,>=0.24.0->transformers) (4.12.2)\n",
            "Requirement already satisfied: charset-normalizer<4,>=2 in /usr/local/lib/python3.11/dist-packages (from requests->transformers) (3.4.1)\n",
            "Requirement already satisfied: idna<4,>=2.5 in /usr/local/lib/python3.11/dist-packages (from requests->transformers) (3.10)\n",
            "Requirement already satisfied: urllib3<3,>=1.21.1 in /usr/local/lib/python3.11/dist-packages (from requests->transformers) (2.3.0)\n",
            "Requirement already satisfied: certifi>=2017.4.17 in /usr/local/lib/python3.11/dist-packages (from requests->transformers) (2025.1.31)\n"
          ]
        }
      ]
    },
    {
      "cell_type": "code",
      "source": [
        "from transformers import pipeline\n",
        "classifier = pipeline(\"sentiment-analysis\")\n",
        "text = input(\"Please input your text for sentiment analysis : \")"
      ],
      "metadata": {
        "id": "whrsXaXi4Ycx",
        "colab": {
          "base_uri": "https://localhost:8080/",
          "height": 644,
          "referenced_widgets": [
            "1912cb6327b54a659509cf3df1a355dd",
            "d51c0aa16b0f4999a20de4ff0d84bef0",
            "c0a9aae4d7e04d3db803b87372980018",
            "bfefc7eee8f740fba82c7e08c6007d7e",
            "2c7980105df94e1b8caa70517db166e9",
            "85de012d44054626b57ac2c5b7a12743",
            "81c35171a1f54da790d4fa4c8a636b15",
            "b151be9bb3554cbcb7a6111d74691420",
            "7afb58fae89d430ea17393d012165f1a",
            "29c56cf95a084c7691ccdb61c706f5da",
            "4cd8429fd3e240f78ad8280873302641",
            "8838b7045dcc4e91adec760e422e1824",
            "99d8651ba1ca43998bc7e4ca3cf69edf",
            "87e740da60734772af11cc5fb1ec5fd6",
            "ccd5208121fc4d7fb03596b7b70a8088",
            "888f052c878a4a489a8cf183a220f85d",
            "71b7eece7465489894870204563247c4",
            "51852444956d4665ace1a025752638c5",
            "cb10552e77eb4eb7bb8720f1e34181ac",
            "7dd0f387e9424c6fa6723a828eaea2ea",
            "93c381b70fef497f8acf0bdb6c937b27",
            "7039eda948444697bce65ea1a770ee2b",
            "1fe3e9bff99540aeb20a846d178d267d",
            "56217c29896e44639a648ae5e929276b",
            "6c9d5d537ef04c90b174fafc9aeb5763",
            "e2a7bc439c1040d98b1139981e607aee",
            "3a6e8bf6c62541ac864d7f45fae2431c",
            "9ed0bab0fa404a36a52c08baf2530b43",
            "7462a47772dc4722b0da57b8ea946c8e",
            "35146e9242784ad08a6768b3725e17e5",
            "ea5cff8d94414239899f0a945ef8c113",
            "edbab244c7a84dec96456c0c2f2379e7",
            "da79b15346be467dab7e50a4e4d0daa9",
            "fc6694567f544702aea155ca1c3c4224",
            "899fae69179e4ead9c4f01de133ab063",
            "0a62433828d84e30abb31015a30a01ad",
            "3e4cdf22db194a4bbc3f4a01b0412920",
            "8020c40069d1435f9f53c9da3628b6ae",
            "0d7ed816e4f34d30a875a90ba849f996",
            "7867dbe3c6be4a54b9ff45f235806f88",
            "651c2ef5325a45e781d9ee5d64c7b873",
            "770304d37ac14341997682a78b069b92",
            "48969947c49c4a0b9ebab792ca6e6c9e",
            "b2560dfb6c474617a8ddf6e8004acae3"
          ]
        },
        "outputId": "949eb2c4-156a-46a5-ae26-fea38f2f7ad0"
      },
      "execution_count": 5,
      "outputs": [
        {
          "metadata": {
            "tags": null
          },
          "name": "stderr",
          "output_type": "stream",
          "text": [
            "No model was supplied, defaulted to distilbert/distilbert-base-uncased-finetuned-sst-2-english and revision 714eb0f (https://huggingface.co/distilbert/distilbert-base-uncased-finetuned-sst-2-english).\n",
            "Using a pipeline without specifying a model name and revision in production is not recommended.\n",
            "/usr/local/lib/python3.11/dist-packages/huggingface_hub/utils/_auth.py:94: UserWarning: \n",
            "The secret `HF_TOKEN` does not exist in your Colab secrets.\n",
            "To authenticate with the Hugging Face Hub, create a token in your settings tab (https://huggingface.co/settings/tokens), set it as secret in your Google Colab and restart your session.\n",
            "You will be able to reuse this secret in all of your notebooks.\n",
            "Please note that authentication is recommended but still optional to access public models or datasets.\n",
            "  warnings.warn(\n"
          ]
        },
        {
          "data": {
            "application/vnd.jupyter.widget-view+json": {
              "model_id": "1912cb6327b54a659509cf3df1a355dd",
              "version_major": 2,
              "version_minor": 0
            },
            "text/plain": [
              "config.json:   0%|          | 0.00/629 [00:00<?, ?B/s]"
            ]
          },
          "metadata": {},
          "output_type": "display_data"
        },
        {
          "data": {
            "application/vnd.jupyter.widget-view+json": {
              "model_id": "8838b7045dcc4e91adec760e422e1824",
              "version_major": 2,
              "version_minor": 0
            },
            "text/plain": [
              "model.safetensors:   0%|          | 0.00/268M [00:00<?, ?B/s]"
            ]
          },
          "metadata": {},
          "output_type": "display_data"
        },
        {
          "data": {
            "application/vnd.jupyter.widget-view+json": {
              "model_id": "1fe3e9bff99540aeb20a846d178d267d",
              "version_major": 2,
              "version_minor": 0
            },
            "text/plain": [
              "tokenizer_config.json:   0%|          | 0.00/48.0 [00:00<?, ?B/s]"
            ]
          },
          "metadata": {},
          "output_type": "display_data"
        },
        {
          "data": {
            "application/vnd.jupyter.widget-view+json": {
              "model_id": "fc6694567f544702aea155ca1c3c4224",
              "version_major": 2,
              "version_minor": 0
            },
            "text/plain": [
              "vocab.txt:   0%|          | 0.00/232k [00:00<?, ?B/s]"
            ]
          },
          "metadata": {},
          "output_type": "display_data"
        },
        {
          "metadata": {
            "tags": null
          },
          "name": "stderr",
          "output_type": "stream",
          "text": [
            "Device set to use cpu\n"
          ]
        },
        {
          "output_type": "error",
          "ename": "KeyboardInterrupt",
          "evalue": "Interrupted by user",
          "traceback": [
            "\u001b[0;31m---------------------------------------------------------------------------\u001b[0m",
            "\u001b[0;31mKeyboardInterrupt\u001b[0m                         Traceback (most recent call last)",
            "\u001b[0;32m<ipython-input-5-db5f5183a8dc>\u001b[0m in \u001b[0;36m<cell line: 0>\u001b[0;34m()\u001b[0m\n\u001b[1;32m      1\u001b[0m \u001b[0;32mfrom\u001b[0m \u001b[0mtransformers\u001b[0m \u001b[0;32mimport\u001b[0m \u001b[0mpipeline\u001b[0m\u001b[0;34m\u001b[0m\u001b[0;34m\u001b[0m\u001b[0m\n\u001b[1;32m      2\u001b[0m \u001b[0mclassifier\u001b[0m \u001b[0;34m=\u001b[0m \u001b[0mpipeline\u001b[0m\u001b[0;34m(\u001b[0m\u001b[0;34m\"sentiment-analysis\"\u001b[0m\u001b[0;34m)\u001b[0m\u001b[0;34m\u001b[0m\u001b[0;34m\u001b[0m\u001b[0m\n\u001b[0;32m----> 3\u001b[0;31m \u001b[0mtext\u001b[0m \u001b[0;34m=\u001b[0m \u001b[0minput\u001b[0m\u001b[0;34m(\u001b[0m\u001b[0;34m\"Please input your text for sentiment analysis : \"\u001b[0m\u001b[0;34m)\u001b[0m\u001b[0;34m\u001b[0m\u001b[0;34m\u001b[0m\u001b[0m\n\u001b[0m",
            "\u001b[0;32m/usr/local/lib/python3.11/dist-packages/ipykernel/kernelbase.py\u001b[0m in \u001b[0;36mraw_input\u001b[0;34m(self, prompt)\u001b[0m\n\u001b[1;32m    849\u001b[0m                 \u001b[0;34m\"raw_input was called, but this frontend does not support input requests.\"\u001b[0m\u001b[0;34m\u001b[0m\u001b[0;34m\u001b[0m\u001b[0m\n\u001b[1;32m    850\u001b[0m             )\n\u001b[0;32m--> 851\u001b[0;31m         return self._input_request(str(prompt),\n\u001b[0m\u001b[1;32m    852\u001b[0m             \u001b[0mself\u001b[0m\u001b[0;34m.\u001b[0m\u001b[0m_parent_ident\u001b[0m\u001b[0;34m,\u001b[0m\u001b[0;34m\u001b[0m\u001b[0;34m\u001b[0m\u001b[0m\n\u001b[1;32m    853\u001b[0m             \u001b[0mself\u001b[0m\u001b[0;34m.\u001b[0m\u001b[0m_parent_header\u001b[0m\u001b[0;34m,\u001b[0m\u001b[0;34m\u001b[0m\u001b[0;34m\u001b[0m\u001b[0m\n",
            "\u001b[0;32m/usr/local/lib/python3.11/dist-packages/ipykernel/kernelbase.py\u001b[0m in \u001b[0;36m_input_request\u001b[0;34m(self, prompt, ident, parent, password)\u001b[0m\n\u001b[1;32m    893\u001b[0m             \u001b[0;32mexcept\u001b[0m \u001b[0mKeyboardInterrupt\u001b[0m\u001b[0;34m:\u001b[0m\u001b[0;34m\u001b[0m\u001b[0;34m\u001b[0m\u001b[0m\n\u001b[1;32m    894\u001b[0m                 \u001b[0;31m# re-raise KeyboardInterrupt, to truncate traceback\u001b[0m\u001b[0;34m\u001b[0m\u001b[0;34m\u001b[0m\u001b[0m\n\u001b[0;32m--> 895\u001b[0;31m                 \u001b[0;32mraise\u001b[0m \u001b[0mKeyboardInterrupt\u001b[0m\u001b[0;34m(\u001b[0m\u001b[0;34m\"Interrupted by user\"\u001b[0m\u001b[0;34m)\u001b[0m \u001b[0;32mfrom\u001b[0m \u001b[0;32mNone\u001b[0m\u001b[0;34m\u001b[0m\u001b[0;34m\u001b[0m\u001b[0m\n\u001b[0m\u001b[1;32m    896\u001b[0m             \u001b[0;32mexcept\u001b[0m \u001b[0mException\u001b[0m \u001b[0;32mas\u001b[0m \u001b[0me\u001b[0m\u001b[0;34m:\u001b[0m\u001b[0;34m\u001b[0m\u001b[0;34m\u001b[0m\u001b[0m\n\u001b[1;32m    897\u001b[0m                 \u001b[0mself\u001b[0m\u001b[0;34m.\u001b[0m\u001b[0mlog\u001b[0m\u001b[0;34m.\u001b[0m\u001b[0mwarning\u001b[0m\u001b[0;34m(\u001b[0m\u001b[0;34m\"Invalid Message:\"\u001b[0m\u001b[0;34m,\u001b[0m \u001b[0mexc_info\u001b[0m\u001b[0;34m=\u001b[0m\u001b[0;32mTrue\u001b[0m\u001b[0;34m)\u001b[0m\u001b[0;34m\u001b[0m\u001b[0;34m\u001b[0m\u001b[0m\n",
            "\u001b[0;31mKeyboardInterrupt\u001b[0m: Interrupted by user"
          ]
        }
      ]
    },
    {
      "cell_type": "code",
      "source": [
        "classifier(text)"
      ],
      "metadata": {
        "colab": {
          "base_uri": "https://localhost:8080/"
        },
        "id": "8EoOYQluGUY4",
        "outputId": "b5b6fc57-dcb4-4fee-898e-7d9c304c2441"
      },
      "execution_count": null,
      "outputs": [
        {
          "output_type": "execute_result",
          "data": {
            "text/plain": [
              "[{'label': 'POSITIVE', 'score': 0.9997290968894958}]"
            ]
          },
          "metadata": {},
          "execution_count": 10
        }
      ]
    },
    {
      "cell_type": "code",
      "source": [
        "classifier(text)"
      ],
      "metadata": {
        "id": "cDKa7mmb4366",
        "colab": {
          "base_uri": "https://localhost:8080/"
        },
        "outputId": "b1461527-19e8-4b54-fd99-886f9469c5fd"
      },
      "execution_count": null,
      "outputs": [
        {
          "output_type": "execute_result",
          "data": {
            "text/plain": [
              "[{'label': 'NEGATIVE', 'score': 0.9995286464691162}]"
            ]
          },
          "metadata": {},
          "execution_count": 8
        }
      ]
    },
    {
      "cell_type": "code",
      "source": [],
      "metadata": {
        "id": "WIixrJWWGQ4X"
      },
      "execution_count": null,
      "outputs": []
    }
  ]
}